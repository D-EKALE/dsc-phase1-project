{
 "cells": [
  {
   "cell_type": "markdown",
   "id": "13f04740",
   "metadata": {},
   "source": [
    "### Overview:\n",
    "In this analysis, we will explore the process of analyzing various movie datasets to identify trends and patterns in the types of films currently doing well at the box office. The ultimate goal is to provide actionable insights that can be used to guide decision-making at Microsoft's new movie studio.\n"
   ]
  },
  {
   "cell_type": "code",
   "execution_count": null,
   "id": "99644f2a",
   "metadata": {},
   "outputs": [],
   "source": []
  }
 ],
 "metadata": {
  "kernelspec": {
   "display_name": "Python 3 (ipykernel)",
   "language": "python",
   "name": "python3"
  },
  "language_info": {
   "codemirror_mode": {
    "name": "ipython",
    "version": 3
   },
   "file_extension": ".py",
   "mimetype": "text/x-python",
   "name": "python",
   "nbconvert_exporter": "python",
   "pygments_lexer": "ipython3",
   "version": "3.9.13"
  }
 },
 "nbformat": 4,
 "nbformat_minor": 5
}
