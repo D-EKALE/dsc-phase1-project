{
 "cells": [
  {
   "cell_type": "markdown",
   "id": "c0de12a4",
   "metadata": {},
   "source": [
    "### Overview:\n",
    "In this analysis, we will explore the process of analyzing various movie datasets to identify trends and patterns in the types of films currently doing well at the box office. The ultimate goal is to provide actionable insights that can be used to guide decision-making at Microsoft's new movie studio.\n"
   ]
  },
  {
   "cell_type": "markdown",
   "id": "e2849f7b",
   "metadata": {},
   "source": [
    "###  Importing Libraries and Loading Data\n",
    "To start, we need to import the necessary libraries and load the data into data frames. In this analysis, we will use pandas and matplotlib libraries."
   ]
  },
  {
   "cell_type": "code",
   "execution_count": 4,
   "id": "c40b5cd0",
   "metadata": {},
   "outputs": [
    {
     "ename": "ImportError",
     "evalue": "cannot import name 'artist' from 'matplotlib' (C:\\Users\\Daniel Ekale\\anaconda3\\lib\\site-packages\\matplotlib\\__init__.py)",
     "output_type": "error",
     "traceback": [
      "\u001b[1;31m---------------------------------------------------------------------------\u001b[0m",
      "\u001b[1;31mImportError\u001b[0m                               Traceback (most recent call last)",
      "\u001b[1;32m~\\AppData\\Local\\Temp\\ipykernel_8440\\3099434493.py\u001b[0m in \u001b[0;36m<module>\u001b[1;34m\u001b[0m\n\u001b[0;32m      1\u001b[0m \u001b[1;32mimport\u001b[0m \u001b[0mpandas\u001b[0m \u001b[1;32mas\u001b[0m \u001b[0mpd\u001b[0m\u001b[1;33m\u001b[0m\u001b[1;33m\u001b[0m\u001b[0m\n\u001b[1;32m----> 2\u001b[1;33m \u001b[1;32mimport\u001b[0m \u001b[0mmatplotlib\u001b[0m\u001b[1;33m.\u001b[0m\u001b[0mpyplot\u001b[0m \u001b[1;32mas\u001b[0m \u001b[0mplt\u001b[0m\u001b[1;33m\u001b[0m\u001b[1;33m\u001b[0m\u001b[0m\n\u001b[0m\u001b[0;32m      3\u001b[0m \u001b[1;32mimport\u001b[0m \u001b[0mseaborn\u001b[0m \u001b[1;32mas\u001b[0m \u001b[0msns\u001b[0m\u001b[1;33m\u001b[0m\u001b[1;33m\u001b[0m\u001b[0m\n\u001b[0;32m      4\u001b[0m \u001b[1;32mimport\u001b[0m \u001b[0msqlite3\u001b[0m\u001b[1;33m\u001b[0m\u001b[1;33m\u001b[0m\u001b[0m\n\u001b[0;32m      5\u001b[0m \u001b[0mget_ipython\u001b[0m\u001b[1;33m(\u001b[0m\u001b[1;33m)\u001b[0m\u001b[1;33m.\u001b[0m\u001b[0mrun_line_magic\u001b[0m\u001b[1;33m(\u001b[0m\u001b[1;34m'matplotlib'\u001b[0m\u001b[1;33m,\u001b[0m \u001b[1;34m'inline'\u001b[0m\u001b[1;33m)\u001b[0m\u001b[1;33m\u001b[0m\u001b[1;33m\u001b[0m\u001b[0m\n",
      "\u001b[1;32m~\\anaconda3\\lib\\site-packages\\matplotlib\\pyplot.py\u001b[0m in \u001b[0;36m<module>\u001b[1;34m\u001b[0m\n\u001b[0;32m     47\u001b[0m \u001b[1;32mfrom\u001b[0m \u001b[0mcycler\u001b[0m \u001b[1;32mimport\u001b[0m \u001b[0mcycler\u001b[0m\u001b[1;33m\u001b[0m\u001b[1;33m\u001b[0m\u001b[0m\n\u001b[0;32m     48\u001b[0m \u001b[1;32mimport\u001b[0m \u001b[0mmatplotlib\u001b[0m\u001b[1;33m\u001b[0m\u001b[1;33m\u001b[0m\u001b[0m\n\u001b[1;32m---> 49\u001b[1;33m \u001b[1;32mimport\u001b[0m \u001b[0mmatplotlib\u001b[0m\u001b[1;33m.\u001b[0m\u001b[0mcolorbar\u001b[0m\u001b[1;33m\u001b[0m\u001b[1;33m\u001b[0m\u001b[0m\n\u001b[0m\u001b[0;32m     50\u001b[0m \u001b[1;32mimport\u001b[0m \u001b[0mmatplotlib\u001b[0m\u001b[1;33m.\u001b[0m\u001b[0mimage\u001b[0m\u001b[1;33m\u001b[0m\u001b[1;33m\u001b[0m\u001b[0m\n\u001b[0;32m     51\u001b[0m \u001b[1;32mfrom\u001b[0m \u001b[0mmatplotlib\u001b[0m \u001b[1;32mimport\u001b[0m \u001b[0m_api\u001b[0m\u001b[1;33m\u001b[0m\u001b[1;33m\u001b[0m\u001b[0m\n",
      "\u001b[1;32m~\\anaconda3\\lib\\site-packages\\matplotlib\\colorbar.py\u001b[0m in \u001b[0;36m<module>\u001b[1;34m\u001b[0m\n\u001b[0;32m     19\u001b[0m \u001b[1;33m\u001b[0m\u001b[0m\n\u001b[0;32m     20\u001b[0m \u001b[1;32mimport\u001b[0m \u001b[0mmatplotlib\u001b[0m \u001b[1;32mas\u001b[0m \u001b[0mmpl\u001b[0m\u001b[1;33m\u001b[0m\u001b[1;33m\u001b[0m\u001b[0m\n\u001b[1;32m---> 21\u001b[1;33m \u001b[1;32mfrom\u001b[0m \u001b[0mmatplotlib\u001b[0m \u001b[1;32mimport\u001b[0m \u001b[0m_api\u001b[0m\u001b[1;33m,\u001b[0m \u001b[0mcollections\u001b[0m\u001b[1;33m,\u001b[0m \u001b[0mcm\u001b[0m\u001b[1;33m,\u001b[0m \u001b[0mcolors\u001b[0m\u001b[1;33m,\u001b[0m \u001b[0mcontour\u001b[0m\u001b[1;33m,\u001b[0m \u001b[0mticker\u001b[0m\u001b[1;33m\u001b[0m\u001b[1;33m\u001b[0m\u001b[0m\n\u001b[0m\u001b[0;32m     22\u001b[0m \u001b[1;32mimport\u001b[0m \u001b[0mmatplotlib\u001b[0m\u001b[1;33m.\u001b[0m\u001b[0martist\u001b[0m \u001b[1;32mas\u001b[0m \u001b[0mmartist\u001b[0m\u001b[1;33m\u001b[0m\u001b[1;33m\u001b[0m\u001b[0m\n\u001b[0;32m     23\u001b[0m \u001b[1;32mimport\u001b[0m \u001b[0mmatplotlib\u001b[0m\u001b[1;33m.\u001b[0m\u001b[0mpatches\u001b[0m \u001b[1;32mas\u001b[0m \u001b[0mmpatches\u001b[0m\u001b[1;33m\u001b[0m\u001b[1;33m\u001b[0m\u001b[0m\n",
      "\u001b[1;32m~\\anaconda3\\lib\\site-packages\\matplotlib\\collections.py\u001b[0m in \u001b[0;36m<module>\u001b[1;34m\u001b[0m\n\u001b[0;32m     18\u001b[0m \u001b[1;33m\u001b[0m\u001b[0m\n\u001b[0;32m     19\u001b[0m \u001b[1;32mimport\u001b[0m \u001b[0mmatplotlib\u001b[0m \u001b[1;32mas\u001b[0m \u001b[0mmpl\u001b[0m\u001b[1;33m\u001b[0m\u001b[1;33m\u001b[0m\u001b[0m\n\u001b[1;32m---> 20\u001b[1;33m from . import (_api, _path, artist, cbook, cm, colors as mcolors, docstring,\n\u001b[0m\u001b[0;32m     21\u001b[0m                hatch as mhatch, lines as mlines, path as mpath, transforms)\n\u001b[0;32m     22\u001b[0m \u001b[1;32mfrom\u001b[0m \u001b[1;33m.\u001b[0m\u001b[0m_enums\u001b[0m \u001b[1;32mimport\u001b[0m \u001b[0mJoinStyle\u001b[0m\u001b[1;33m,\u001b[0m \u001b[0mCapStyle\u001b[0m\u001b[1;33m\u001b[0m\u001b[1;33m\u001b[0m\u001b[0m\n",
      "\u001b[1;32m~\\anaconda3\\lib\\site-packages\\matplotlib\\lines.py\u001b[0m in \u001b[0;36m<module>\u001b[1;34m\u001b[0m\n\u001b[0;32m      9\u001b[0m \u001b[1;33m\u001b[0m\u001b[0m\n\u001b[0;32m     10\u001b[0m \u001b[1;32mimport\u001b[0m \u001b[0mmatplotlib\u001b[0m \u001b[1;32mas\u001b[0m \u001b[0mmpl\u001b[0m\u001b[1;33m\u001b[0m\u001b[1;33m\u001b[0m\u001b[0m\n\u001b[1;32m---> 11\u001b[1;33m \u001b[1;32mfrom\u001b[0m \u001b[1;33m.\u001b[0m \u001b[1;32mimport\u001b[0m \u001b[0m_api\u001b[0m\u001b[1;33m,\u001b[0m \u001b[0martist\u001b[0m\u001b[1;33m,\u001b[0m \u001b[0mcbook\u001b[0m\u001b[1;33m,\u001b[0m \u001b[0mcolors\u001b[0m \u001b[1;32mas\u001b[0m \u001b[0mmcolors\u001b[0m\u001b[1;33m,\u001b[0m \u001b[0mdocstring\u001b[0m\u001b[1;33m,\u001b[0m \u001b[0mrcParams\u001b[0m\u001b[1;33m\u001b[0m\u001b[1;33m\u001b[0m\u001b[0m\n\u001b[0m\u001b[0;32m     12\u001b[0m \u001b[1;32mfrom\u001b[0m \u001b[1;33m.\u001b[0m\u001b[0martist\u001b[0m \u001b[1;32mimport\u001b[0m \u001b[0mArtist\u001b[0m\u001b[1;33m,\u001b[0m \u001b[0mallow_rasterization\u001b[0m\u001b[1;33m\u001b[0m\u001b[1;33m\u001b[0m\u001b[0m\n\u001b[0;32m     13\u001b[0m from .cbook import (\n",
      "\u001b[1;31mImportError\u001b[0m: cannot import name 'artist' from 'matplotlib' (C:\\Users\\Daniel Ekale\\anaconda3\\lib\\site-packages\\matplotlib\\__init__.py)"
     ]
    }
   ],
   "source": [
    "import pandas as pd\n",
    "import matplotlib.pyplot as plt\n",
    "import seaborn as sns\n",
    "import sqlite3\n",
    "%matplotlib inline\n",
    "\n",
    "# Load data from csv files\n",
    "movies = pd.read_csv('zippedData/bom.movie_gross.csv')\n",
    "ratings = pd.read_csv('zippedData/rt.movie_info.tsv', sep='\\t')\n",
    "budgets = pd.read_csv('zippedData/tn.movie_budgets.csv')\n",
    "popular_movies = pd.read_csv('zippedData/tmdb.movies.csv', index_col = 0)"
   ]
  },
  {
   "cell_type": "code",
   "execution_count": null,
   "id": "30fb1d11",
   "metadata": {
    "scrolled": true
   },
   "outputs": [],
   "source": [
    "# Analyze the table movies\n",
    "movies.head(2)"
   ]
  },
  {
   "cell_type": "code",
   "execution_count": null,
   "id": "484002b2",
   "metadata": {
    "scrolled": false
   },
   "outputs": [],
   "source": [
    "# check if we have null values\n",
    "movies.isna().sum()"
   ]
  },
  {
   "cell_type": "code",
   "execution_count": null,
   "id": "a913ecd5",
   "metadata": {
    "scrolled": false
   },
   "outputs": [],
   "source": [
    "#Replace the null values in studio gross column with mode since it has categorical values\n",
    "mode_studio = movies.studio.mode()[0]\n",
    "movies.studio.fillna(mode_studio, inplace = True)\n",
    "\n",
    "#Replace the null values in domestic gross column with mean\n",
    "mean_domestic_gross = movies.domestic_gross.mean()\n",
    "movies.domestic_gross.fillna(mean_domestic_gross, inplace = True)\n",
    "\n",
    "#drop column foreign gross since it has more missing values;\n",
    "movies.drop('foreign_gross', axis = 1).head()"
   ]
  },
  {
   "cell_type": "code",
   "execution_count": null,
   "id": "547fa95f",
   "metadata": {
    "scrolled": true
   },
   "outputs": [],
   "source": [
    "# Order the studios from the one that has the highest domestic gross\n",
    "movies.sort_values(by='domestic_gross', ascending=False, inplace=True)\n",
    "domestic_gross_by_studio  = movies.groupby(['studio'])['domestic_gross'].sum().sort_values(ascending=False).head()\n",
    "domestic_gross_by_studio"
   ]
  },
  {
   "cell_type": "code",
   "execution_count": null,
   "id": "69db9aba",
   "metadata": {
    "scrolled": false
   },
   "outputs": [],
   "source": [
    "# Visualizing the first five studios with the highest domestic gross\n",
    "fig, ax = plt.subplots(figsize=(6, 4))\n",
    "ax.bar(domestic_gross_by_studio.index, domestic_gross_by_studio.values, label = \"Domestic Gross\")\n",
    "\n",
    "# Set the title and axis labels\n",
    "ax.set_title('Total Domestic Gross by Studio (Top 5)')\n",
    "ax.set_xlabel('Studio')\n",
    "ax.set_ylabel('Total Domestic Gross (in millions)')\n",
    "ax.legend();"
   ]
  },
  {
   "cell_type": "markdown",
   "id": "c12283a5",
   "metadata": {},
   "source": [
    "### Analyze the ratings table"
   ]
  },
  {
   "cell_type": "code",
   "execution_count": null,
   "id": "cd2b1938",
   "metadata": {
    "scrolled": true
   },
   "outputs": [],
   "source": [
    "budgets.head(2)"
   ]
  },
  {
   "cell_type": "code",
   "execution_count": null,
   "id": "b5670dfe",
   "metadata": {
    "scrolled": true
   },
   "outputs": [],
   "source": [
    "budgets.info()"
   ]
  },
  {
   "cell_type": "code",
   "execution_count": null,
   "id": "d7428850",
   "metadata": {
    "scrolled": false
   },
   "outputs": [],
   "source": [
    "# Analyze the trend of movie releases over the years\n",
    "budgets['release_date'] = pd.to_datetime(budgets['release_date'])\n",
    "budgets['year'] = budgets['release_date'].dt.year\n",
    "yearly_releases = budgets.groupby('year').size()\n",
    "\n",
    "sns.set_style('whitegrid')\n",
    "sns.set(rc={'figure.figsize':(6,4)})\n",
    "sns.lineplot(x=yearly_releases.index, y=yearly_releases.values)\n",
    "plt.xlabel('Year')\n",
    "plt.ylabel('Number of movies released')\n",
    "plt.title('Trend of movie releases over the years');"
   ]
  },
  {
   "cell_type": "markdown",
   "id": "1a5d8f39",
   "metadata": {},
   "source": [
    "### Typecast the columns production budget, domestic, foreign and worlwide\n",
    "To be able to use these columns we must convert the values into floats\n"
   ]
  },
  {
   "cell_type": "code",
   "execution_count": null,
   "id": "f3f7e32f",
   "metadata": {
    "scrolled": true
   },
   "outputs": [],
   "source": [
    "budgets['production_budget'] = budgets['production_budget'].str.replace('$', '').str.replace(',', '').astype(float)\n",
    "budgets['domestic_gross'] = budgets['domestic_gross'].str.replace('$', '').str.replace(',', '').astype(float)\n",
    "budgets['worldwide_gross'] = budgets['worldwide_gross'].str.replace('$', '').str.replace(',', '').astype(float)"
   ]
  },
  {
   "cell_type": "markdown",
   "id": "9cfc3bff",
   "metadata": {},
   "source": [
    "### Generate a correlation matrix for the columns 'production_budget', 'domestic_gross', 'worldwide_gross'"
   ]
  },
  {
   "cell_type": "code",
   "execution_count": null,
   "id": "4fd85ca2",
   "metadata": {
    "scrolled": true
   },
   "outputs": [],
   "source": [
    "correlation_matrix = budgets[['production_budget', 'domestic_gross', 'worldwide_gross']].astype(float).corr()\n",
    "print(correlation_matrix)"
   ]
  },
  {
   "cell_type": "code",
   "execution_count": null,
   "id": "9b690602",
   "metadata": {},
   "outputs": [],
   "source": [
    "sns.heatmap(correlation_matrix, annot=True, cmap='coolwarm')"
   ]
  },
  {
   "cell_type": "code",
   "execution_count": null,
   "id": "a83bf09f",
   "metadata": {
    "scrolled": true
   },
   "outputs": [],
   "source": [
    "# select rating, genre and box office column to see which one had the highest revenue at the box office\n",
    "top_movies = ratings[['rating','genre','box_office']].sort_values(by='box_office', ascending = False).head()\n",
    "top_movies"
   ]
  },
  {
   "cell_type": "code",
   "execution_count": null,
   "id": "d736db46",
   "metadata": {},
   "outputs": [],
   "source": []
  },
  {
   "cell_type": "code",
   "execution_count": null,
   "id": "4a41fcf2",
   "metadata": {},
   "outputs": [],
   "source": []
  },
  {
   "cell_type": "code",
   "execution_count": null,
   "id": "d1e628e5",
   "metadata": {
    "scrolled": true
   },
   "outputs": [],
   "source": [
    "popular_movies.head(2)"
   ]
  },
  {
   "cell_type": "code",
   "execution_count": null,
   "id": "0f7591d8",
   "metadata": {},
   "outputs": [],
   "source": [
    "popular_movies[['genre_ids', 'popularity', 'release_date','vote_average', 'vote_count']].sort_values('popularity', ascending = False).head()"
   ]
  },
  {
   "cell_type": "code",
   "execution_count": null,
   "id": "fef2485e",
   "metadata": {},
   "outputs": [],
   "source": [
    "# creating a connection to im database\n",
    "conn = sqlite3.connect('zippedData/im.db')"
   ]
  },
  {
   "cell_type": "code",
   "execution_count": null,
   "id": "c041f3bd",
   "metadata": {},
   "outputs": [],
   "source": [
    "# checking all the tables in the database\n",
    "table_name_query = \"\"\"SELECT name \n",
    "                      AS 'Table Names' \n",
    "                      FROM sqlite_master \n",
    "                      WHERE type='table';\"\"\"\n",
    "\n",
    "pd.read_sql(table_name_query, conn)"
   ]
  },
  {
   "cell_type": "markdown",
   "id": "8fbde2b3",
   "metadata": {},
   "source": [
    "### Data Understanding\n",
    "To begin my analysis, I first had to understand the data provided. The data came from several sources and included various file formats. The data sources were:\n",
    "1. Box Office Mojo\n",
    "2. IMDB\n",
    "3. Rotten Tomatoes\n",
    "4. TheMovieDB\n",
    "5. The Numbers\n",
    "\n",
    "The data included information on movie titles, release dates, genres, production companies, budgets, and box office revenue. Some of the data was provided in a SQLite database, while other data was in CSV or TSV file formats."
   ]
  },
  {
   "cell_type": "code",
   "execution_count": null,
   "id": "c3c431cf",
   "metadata": {
    "scrolled": true
   },
   "outputs": [],
   "source": [
    "movies.head(2)"
   ]
  },
  {
   "cell_type": "code",
   "execution_count": null,
   "id": "b9cde0a0",
   "metadata": {},
   "outputs": [],
   "source": [
    "ratings.head(2)"
   ]
  },
  {
   "cell_type": "code",
   "execution_count": null,
   "id": "6dbfee0b",
   "metadata": {
    "scrolled": true
   },
   "outputs": [],
   "source": [
    "# we check the null values in the dataset movies\n",
    "movies.isna().sum()"
   ]
  },
  {
   "cell_type": "code",
   "execution_count": null,
   "id": "6b1abf84",
   "metadata": {},
   "outputs": [],
   "source": [
    "# We now frop the null values and replace our dataframe movies\n",
    "movies.drop"
   ]
  },
  {
   "cell_type": "markdown",
   "id": "e8da4ba6",
   "metadata": {},
   "source": [
    "### Identifying Most Successful Genres\n",
    "To identify the most successful genres, we need to merge the movies and ratings data frames and group by genre to calculate the average box office revenue per genre."
   ]
  },
  {
   "cell_type": "code",
   "execution_count": null,
   "id": "9f678d08",
   "metadata": {},
   "outputs": [],
   "source": [
    "# Merge the movies and ratings data frames\n",
    "movies_ratings = pd.merge(movies, ratings, left_on='title', right_on='title')\n",
    "\n",
    "# Group by genre and calculate average box office revenue\n",
    "genres = movies_ratings.groupby('genre')['domestic_gross'].mean().sort_values(ascending=False)\n"
   ]
  },
  {
   "cell_type": "code",
   "execution_count": null,
   "id": "8b733f8e",
   "metadata": {},
   "outputs": [],
   "source": []
  }
 ],
 "metadata": {
  "kernelspec": {
   "display_name": "Python 3 (ipykernel)",
   "language": "python",
   "name": "python3"
  },
  "language_info": {
   "codemirror_mode": {
    "name": "ipython",
    "version": 3
   },
   "file_extension": ".py",
   "mimetype": "text/x-python",
   "name": "python",
   "nbconvert_exporter": "python",
   "pygments_lexer": "ipython3",
   "version": "3.9.13"
  }
 },
 "nbformat": 4,
 "nbformat_minor": 5
}
